{
  "nbformat": 4,
  "nbformat_minor": 0,
  "metadata": {
    "colab": {
      "provenance": []
    },
    "kernelspec": {
      "name": "python3",
      "display_name": "Python 3"
    },
    "language_info": {
      "name": "python"
    }
  },
  "cells": [
    {
      "cell_type": "code",
      "execution_count": 2,
      "metadata": {
        "id": "M-cWJ8Kgi4ex"
      },
      "outputs": [],
      "source": [
        "import pandas as pd\n",
        "from sklearn.model_selection import train_test_split\n",
        "from sklearn.feature_extraction.text import TfidfVectorizer\n",
        "from sklearn.naive_bayes import MultinomialNB\n",
        "from sklearn.metrics import classification_report, confusion_matrix\n",
        "import nltk\n",
        "from nltk.corpus import stopwords\n",
        "from nltk.stem import WordNetLemmatizer\n",
        "import re"
      ]
    },
    {
      "cell_type": "code",
      "source": [
        "nltk.download('stopwords')\n",
        "nltk.download('wordnet')"
      ],
      "metadata": {
        "colab": {
          "base_uri": "https://localhost:8080/"
        },
        "id": "dudxE6fUjKqD",
        "outputId": "98169af7-351d-4771-cc53-31f623146492"
      },
      "execution_count": 3,
      "outputs": [
        {
          "output_type": "stream",
          "name": "stderr",
          "text": [
            "[nltk_data] Downloading package stopwords to /root/nltk_data...\n",
            "[nltk_data]   Unzipping corpora/stopwords.zip.\n",
            "[nltk_data] Downloading package wordnet to /root/nltk_data...\n"
          ]
        },
        {
          "output_type": "execute_result",
          "data": {
            "text/plain": [
              "True"
            ]
          },
          "metadata": {},
          "execution_count": 3
        }
      ]
    },
    {
      "cell_type": "code",
      "source": [
        "dataset_url = \"https://raw.githubusercontent.com/datasets/spam-dataset/main/spam.csv\"\n",
        "data = pd.read_csv(dataset_url, encoding='latin-1')"
      ],
      "metadata": {
        "id": "lYBmyq3wjnUA"
      },
      "execution_count": null,
      "outputs": []
    },
    {
      "cell_type": "code",
      "source": [
        "print(data.head())\n",
        "print(data.info())\n",
        "\n",
        "# Rename columns for clarity (if needed)\n",
        "data = data.rename(columns={\"v1\": \"label\", \"v2\": \"email_content\"})\n",
        "data = data[[\"label\", \"email_content\"]]\n"
      ],
      "metadata": {
        "id": "KDYZDMZbjtac"
      },
      "execution_count": null,
      "outputs": []
    },
    {
      "cell_type": "code",
      "source": [
        "data['label'] = data['label'].map({\"ham\": 0, \"spam\": 1})\n",
        "\n",
        "\n",
        "stop_words = set(stopwords.words('english'))\n",
        "lemmatizer = WordNetLemmatizer()"
      ],
      "metadata": {
        "id": "qR28U8ITjx5r"
      },
      "execution_count": null,
      "outputs": []
    },
    {
      "cell_type": "code",
      "source": [
        "def preprocess_text(text):\n",
        "    text = re.sub(r'\\W', ' ', text)  # Remove non-word characters\n",
        "    text = text.lower()  # Convert to lowercase\n",
        "    text = text.split()  # Tokenize\n",
        "    text = [lemmatizer.lemmatize(word) for word in text if word not in stop_words]  # Lemmatize and remove stopwords\n",
        "    return ' '.join(text)"
      ],
      "metadata": {
        "id": "wW15gMD8j5bp"
      },
      "execution_count": null,
      "outputs": []
    },
    {
      "cell_type": "code",
      "source": [
        "data['processed_content'] = data['email_content'].apply(preprocess_text)\n",
        "\n",
        "# Check preprocessed data\n",
        "print(data['processed_content'].head())\n",
        "\n",
        "# Initialize TF-IDF Vectorizer\n",
        "tfidf = TfidfVectorizer(max_features=5000)\n",
        "\n",
        "# Transform text data to feature matrix\n",
        "X = tfidf.fit_transform(data['processed_content']).toarray()"
      ],
      "metadata": {
        "id": "P0x6Oycpj7P6"
      },
      "execution_count": null,
      "outputs": []
    },
    {
      "cell_type": "code",
      "source": [
        "y = data['label']\n",
        "\n",
        "# **5. Train-Test Split**\n",
        "X_train, X_test, y_train, y_test = train_test_split(X, y, test_size=0.2, random_state=42)\n",
        "\n",
        "# **6. Model Training**\n",
        "# Initialize Naive Bayes classifier\n",
        "model = MultinomialNB()\n",
        "\n",
        "# Train the model\n",
        "model.fit(X_train, y_train)\n",
        "\n",
        "# **7. Model Evaluation**\n",
        "# Predict on the test set\n",
        "y_pred = model.predict(X_test)"
      ],
      "metadata": {
        "id": "kdic5ExVkBuD"
      },
      "execution_count": null,
      "outputs": []
    },
    {
      "cell_type": "code",
      "source": [
        "print(\"Confusion Matrix:\\n\", confusion_matrix(y_test, y_pred))\n",
        "print(\"Classification Report:\\n\", classification_report(y_test, y_pred))\n",
        "\n",
        "# **8. Save and Load Model (Optional)**\n",
        "import pickle\n",
        "\n",
        "# Save the trained model\n",
        "with open('spam_detector_model.pkl', 'wb') as file:\n",
        "    pickle.dump(model, file)\n",
        "\n",
        "# Save the TF-IDF vectorizer\n",
        "with open('tfidf_vectorizer.pkl', 'wb') as file:\n",
        "    pickle.dump(tfidf, file)\n",
        "\n",
        "# Load the trained model\n",
        "with open('spam_detector_model.pkl', 'rb') as file:\n",
        "    loaded_model = pickle.load(file)\n",
        "\n",
        "# Load the TF-IDF vectorizer\n",
        "with open('tfidf_vectorizer.pkl', 'rb') as file:\n",
        "    loaded_tfidf = pickle.load(file)\n",
        "\n",
        "# **9. Real-Time Testing**\n",
        "# Function to classify new emails\n",
        "def classify_email(email_text):\n",
        "    processed_email = preprocess_text(email_text)\n",
        "    email_features = loaded_tfidf.transform([processed_email]).toarray()\n",
        "    prediction = loaded_model.predict(email_features)\n",
        "    return \"Spam\" if prediction[0] == 1 else \"Not Spam\"\n",
        "\n",
        "# Test the classifier\n",
        "sample_email = \"Congratulations! You have won a free iPhone. Claim now!\"\n",
        "print(f\"Email: {sample_email}\\nClassification: {classify_email(sample_email)}\")\n"
      ],
      "metadata": {
        "id": "bcj8Il83kIuL"
      },
      "execution_count": null,
      "outputs": []
    }
  ]
}